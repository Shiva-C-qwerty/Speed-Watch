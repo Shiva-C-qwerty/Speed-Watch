{
 "cells": [
  {
   "cell_type": "code",
   "execution_count": 3,
   "id": "8181a704",
   "metadata": {},
   "outputs": [],
   "source": [
    "import pandas as pd\n",
    "import numpy as np\n",
    "import matplotlib.pyplot as plt\n",
    "\n",
    "# Load data from a CSV file\n",
    "data = pd.read_csv('overspeeding.csv')"
   ]
  },
  {
   "cell_type": "code",
   "execution_count": 4,
   "id": "f409faf9",
   "metadata": {},
   "outputs": [
    {
     "data": {
      "text/html": [
       "<div>\n",
       "<style scoped>\n",
       "    .dataframe tbody tr th:only-of-type {\n",
       "        vertical-align: middle;\n",
       "    }\n",
       "\n",
       "    .dataframe tbody tr th {\n",
       "        vertical-align: top;\n",
       "    }\n",
       "\n",
       "    .dataframe thead th {\n",
       "        text-align: right;\n",
       "    }\n",
       "</style>\n",
       "<table border=\"1\" class=\"dataframe\">\n",
       "  <thead>\n",
       "    <tr style=\"text-align: right;\">\n",
       "      <th></th>\n",
       "      <th>carID</th>\n",
       "      <th>speed</th>\n",
       "      <th>Time</th>\n",
       "    </tr>\n",
       "  </thead>\n",
       "  <tbody>\n",
       "    <tr>\n",
       "      <th>0</th>\n",
       "      <td>1</td>\n",
       "      <td>65.29</td>\n",
       "      <td>11:16:24</td>\n",
       "    </tr>\n",
       "    <tr>\n",
       "      <th>1</th>\n",
       "      <td>0</td>\n",
       "      <td>37.73</td>\n",
       "      <td>11:16:25</td>\n",
       "    </tr>\n",
       "    <tr>\n",
       "      <th>2</th>\n",
       "      <td>2</td>\n",
       "      <td>84.40</td>\n",
       "      <td>11:16:28</td>\n",
       "    </tr>\n",
       "    <tr>\n",
       "      <th>3</th>\n",
       "      <td>3</td>\n",
       "      <td>57.08</td>\n",
       "      <td>11:16:31</td>\n",
       "    </tr>\n",
       "    <tr>\n",
       "      <th>4</th>\n",
       "      <td>4</td>\n",
       "      <td>36.30</td>\n",
       "      <td>11:16:39</td>\n",
       "    </tr>\n",
       "    <tr>\n",
       "      <th>5</th>\n",
       "      <td>5</td>\n",
       "      <td>60.75</td>\n",
       "      <td>11:16:45</td>\n",
       "    </tr>\n",
       "    <tr>\n",
       "      <th>6</th>\n",
       "      <td>6</td>\n",
       "      <td>51.19</td>\n",
       "      <td>11:16:47</td>\n",
       "    </tr>\n",
       "    <tr>\n",
       "      <th>7</th>\n",
       "      <td>10</td>\n",
       "      <td>51.16</td>\n",
       "      <td>11:16:51</td>\n",
       "    </tr>\n",
       "    <tr>\n",
       "      <th>8</th>\n",
       "      <td>9</td>\n",
       "      <td>42.13</td>\n",
       "      <td>11:16:53</td>\n",
       "    </tr>\n",
       "    <tr>\n",
       "      <th>9</th>\n",
       "      <td>11</td>\n",
       "      <td>26.45</td>\n",
       "      <td>11:16:54</td>\n",
       "    </tr>\n",
       "    <tr>\n",
       "      <th>10</th>\n",
       "      <td>14</td>\n",
       "      <td>36.51</td>\n",
       "      <td>11:16:56</td>\n",
       "    </tr>\n",
       "    <tr>\n",
       "      <th>11</th>\n",
       "      <td>13</td>\n",
       "      <td>30.49</td>\n",
       "      <td>11:16:57</td>\n",
       "    </tr>\n",
       "    <tr>\n",
       "      <th>12</th>\n",
       "      <td>12</td>\n",
       "      <td>35.03</td>\n",
       "      <td>11:16:58</td>\n",
       "    </tr>\n",
       "    <tr>\n",
       "      <th>13</th>\n",
       "      <td>17</td>\n",
       "      <td>40.87</td>\n",
       "      <td>11:16:59</td>\n",
       "    </tr>\n",
       "    <tr>\n",
       "      <th>14</th>\n",
       "      <td>22</td>\n",
       "      <td>60.70</td>\n",
       "      <td>11:17:01</td>\n",
       "    </tr>\n",
       "    <tr>\n",
       "      <th>15</th>\n",
       "      <td>21</td>\n",
       "      <td>36.75</td>\n",
       "      <td>11:17:05</td>\n",
       "    </tr>\n",
       "    <tr>\n",
       "      <th>16</th>\n",
       "      <td>19</td>\n",
       "      <td>32.89</td>\n",
       "      <td>11:17:05</td>\n",
       "    </tr>\n",
       "    <tr>\n",
       "      <th>17</th>\n",
       "      <td>20</td>\n",
       "      <td>32.03</td>\n",
       "      <td>11:17:06</td>\n",
       "    </tr>\n",
       "    <tr>\n",
       "      <th>18</th>\n",
       "      <td>26</td>\n",
       "      <td>43.52</td>\n",
       "      <td>11:17:06</td>\n",
       "    </tr>\n",
       "    <tr>\n",
       "      <th>19</th>\n",
       "      <td>25</td>\n",
       "      <td>41.08</td>\n",
       "      <td>11:17:07</td>\n",
       "    </tr>\n",
       "    <tr>\n",
       "      <th>20</th>\n",
       "      <td>30</td>\n",
       "      <td>40.99</td>\n",
       "      <td>11:17:10</td>\n",
       "    </tr>\n",
       "    <tr>\n",
       "      <th>21</th>\n",
       "      <td>28</td>\n",
       "      <td>44.55</td>\n",
       "      <td>11:17:12</td>\n",
       "    </tr>\n",
       "    <tr>\n",
       "      <th>22</th>\n",
       "      <td>29</td>\n",
       "      <td>34.84</td>\n",
       "      <td>11:17:12</td>\n",
       "    </tr>\n",
       "    <tr>\n",
       "      <th>23</th>\n",
       "      <td>33</td>\n",
       "      <td>41.00</td>\n",
       "      <td>11:17:15</td>\n",
       "    </tr>\n",
       "    <tr>\n",
       "      <th>24</th>\n",
       "      <td>34</td>\n",
       "      <td>32.07</td>\n",
       "      <td>11:17:17</td>\n",
       "    </tr>\n",
       "    <tr>\n",
       "      <th>25</th>\n",
       "      <td>37</td>\n",
       "      <td>36.89</td>\n",
       "      <td>11:17:20</td>\n",
       "    </tr>\n",
       "    <tr>\n",
       "      <th>26</th>\n",
       "      <td>40</td>\n",
       "      <td>28.04</td>\n",
       "      <td>11:17:24</td>\n",
       "    </tr>\n",
       "    <tr>\n",
       "      <th>27</th>\n",
       "      <td>44</td>\n",
       "      <td>50.78</td>\n",
       "      <td>11:17:24</td>\n",
       "    </tr>\n",
       "    <tr>\n",
       "      <th>28</th>\n",
       "      <td>38</td>\n",
       "      <td>20.78</td>\n",
       "      <td>11:17:27</td>\n",
       "    </tr>\n",
       "    <tr>\n",
       "      <th>29</th>\n",
       "      <td>43</td>\n",
       "      <td>26.19</td>\n",
       "      <td>11:17:27</td>\n",
       "    </tr>\n",
       "    <tr>\n",
       "      <th>30</th>\n",
       "      <td>41</td>\n",
       "      <td>27.11</td>\n",
       "      <td>11:17:30</td>\n",
       "    </tr>\n",
       "    <tr>\n",
       "      <th>31</th>\n",
       "      <td>45</td>\n",
       "      <td>28.20</td>\n",
       "      <td>11:17:33</td>\n",
       "    </tr>\n",
       "    <tr>\n",
       "      <th>32</th>\n",
       "      <td>42</td>\n",
       "      <td>20.19</td>\n",
       "      <td>11:17:33</td>\n",
       "    </tr>\n",
       "    <tr>\n",
       "      <th>33</th>\n",
       "      <td>53</td>\n",
       "      <td>28.83</td>\n",
       "      <td>11:17:35</td>\n",
       "    </tr>\n",
       "    <tr>\n",
       "      <th>34</th>\n",
       "      <td>52</td>\n",
       "      <td>24.91</td>\n",
       "      <td>11:17:37</td>\n",
       "    </tr>\n",
       "    <tr>\n",
       "      <th>35</th>\n",
       "      <td>59</td>\n",
       "      <td>41.73</td>\n",
       "      <td>11:17:38</td>\n",
       "    </tr>\n",
       "    <tr>\n",
       "      <th>36</th>\n",
       "      <td>51</td>\n",
       "      <td>21.36</td>\n",
       "      <td>11:17:39</td>\n",
       "    </tr>\n",
       "    <tr>\n",
       "      <th>37</th>\n",
       "      <td>56</td>\n",
       "      <td>21.51</td>\n",
       "      <td>11:17:44</td>\n",
       "    </tr>\n",
       "    <tr>\n",
       "      <th>38</th>\n",
       "      <td>57</td>\n",
       "      <td>20.20</td>\n",
       "      <td>11:17:44</td>\n",
       "    </tr>\n",
       "    <tr>\n",
       "      <th>39</th>\n",
       "      <td>58</td>\n",
       "      <td>21.00</td>\n",
       "      <td>11:17:44</td>\n",
       "    </tr>\n",
       "    <tr>\n",
       "      <th>40</th>\n",
       "      <td>62</td>\n",
       "      <td>23.14</td>\n",
       "      <td>11:17:46</td>\n",
       "    </tr>\n",
       "    <tr>\n",
       "      <th>41</th>\n",
       "      <td>63</td>\n",
       "      <td>23.14</td>\n",
       "      <td>11:17:46</td>\n",
       "    </tr>\n",
       "    <tr>\n",
       "      <th>42</th>\n",
       "      <td>60</td>\n",
       "      <td>20.66</td>\n",
       "      <td>11:17:50</td>\n",
       "    </tr>\n",
       "    <tr>\n",
       "      <th>43</th>\n",
       "      <td>67</td>\n",
       "      <td>25.26</td>\n",
       "      <td>11:17:51</td>\n",
       "    </tr>\n",
       "    <tr>\n",
       "      <th>44</th>\n",
       "      <td>68</td>\n",
       "      <td>20.54</td>\n",
       "      <td>11:17:52</td>\n",
       "    </tr>\n",
       "    <tr>\n",
       "      <th>45</th>\n",
       "      <td>66</td>\n",
       "      <td>21.53</td>\n",
       "      <td>11:17:53</td>\n",
       "    </tr>\n",
       "    <tr>\n",
       "      <th>46</th>\n",
       "      <td>65</td>\n",
       "      <td>25.22</td>\n",
       "      <td>11:17:53</td>\n",
       "    </tr>\n",
       "    <tr>\n",
       "      <th>47</th>\n",
       "      <td>72</td>\n",
       "      <td>26.28</td>\n",
       "      <td>11:17:56</td>\n",
       "    </tr>\n",
       "    <tr>\n",
       "      <th>48</th>\n",
       "      <td>73</td>\n",
       "      <td>26.28</td>\n",
       "      <td>11:17:56</td>\n",
       "    </tr>\n",
       "    <tr>\n",
       "      <th>49</th>\n",
       "      <td>70</td>\n",
       "      <td>30.93</td>\n",
       "      <td>11:17:56</td>\n",
       "    </tr>\n",
       "    <tr>\n",
       "      <th>50</th>\n",
       "      <td>76</td>\n",
       "      <td>41.21</td>\n",
       "      <td>11:18:00</td>\n",
       "    </tr>\n",
       "    <tr>\n",
       "      <th>51</th>\n",
       "      <td>75</td>\n",
       "      <td>39.23</td>\n",
       "      <td>11:18:01</td>\n",
       "    </tr>\n",
       "    <tr>\n",
       "      <th>52</th>\n",
       "      <td>80</td>\n",
       "      <td>50.08</td>\n",
       "      <td>11:18:02</td>\n",
       "    </tr>\n",
       "    <tr>\n",
       "      <th>53</th>\n",
       "      <td>79</td>\n",
       "      <td>38.99</td>\n",
       "      <td>11:18:03</td>\n",
       "    </tr>\n",
       "    <tr>\n",
       "      <th>54</th>\n",
       "      <td>85</td>\n",
       "      <td>43.92</td>\n",
       "      <td>11:18:06</td>\n",
       "    </tr>\n",
       "    <tr>\n",
       "      <th>55</th>\n",
       "      <td>84</td>\n",
       "      <td>40.38</td>\n",
       "      <td>11:18:07</td>\n",
       "    </tr>\n",
       "    <tr>\n",
       "      <th>56</th>\n",
       "      <td>83</td>\n",
       "      <td>29.61</td>\n",
       "      <td>11:18:08</td>\n",
       "    </tr>\n",
       "    <tr>\n",
       "      <th>57</th>\n",
       "      <td>89</td>\n",
       "      <td>62.66</td>\n",
       "      <td>11:18:09</td>\n",
       "    </tr>\n",
       "  </tbody>\n",
       "</table>\n",
       "</div>"
      ],
      "text/plain": [
       "    carID  speed      Time\n",
       "0       1  65.29  11:16:24\n",
       "1       0  37.73  11:16:25\n",
       "2       2  84.40  11:16:28\n",
       "3       3  57.08  11:16:31\n",
       "4       4  36.30  11:16:39\n",
       "5       5  60.75  11:16:45\n",
       "6       6  51.19  11:16:47\n",
       "7      10  51.16  11:16:51\n",
       "8       9  42.13  11:16:53\n",
       "9      11  26.45  11:16:54\n",
       "10     14  36.51  11:16:56\n",
       "11     13  30.49  11:16:57\n",
       "12     12  35.03  11:16:58\n",
       "13     17  40.87  11:16:59\n",
       "14     22  60.70  11:17:01\n",
       "15     21  36.75  11:17:05\n",
       "16     19  32.89  11:17:05\n",
       "17     20  32.03  11:17:06\n",
       "18     26  43.52  11:17:06\n",
       "19     25  41.08  11:17:07\n",
       "20     30  40.99  11:17:10\n",
       "21     28  44.55  11:17:12\n",
       "22     29  34.84  11:17:12\n",
       "23     33  41.00  11:17:15\n",
       "24     34  32.07  11:17:17\n",
       "25     37  36.89  11:17:20\n",
       "26     40  28.04  11:17:24\n",
       "27     44  50.78  11:17:24\n",
       "28     38  20.78  11:17:27\n",
       "29     43  26.19  11:17:27\n",
       "30     41  27.11  11:17:30\n",
       "31     45  28.20  11:17:33\n",
       "32     42  20.19  11:17:33\n",
       "33     53  28.83  11:17:35\n",
       "34     52  24.91  11:17:37\n",
       "35     59  41.73  11:17:38\n",
       "36     51  21.36  11:17:39\n",
       "37     56  21.51  11:17:44\n",
       "38     57  20.20  11:17:44\n",
       "39     58  21.00  11:17:44\n",
       "40     62  23.14  11:17:46\n",
       "41     63  23.14  11:17:46\n",
       "42     60  20.66  11:17:50\n",
       "43     67  25.26  11:17:51\n",
       "44     68  20.54  11:17:52\n",
       "45     66  21.53  11:17:53\n",
       "46     65  25.22  11:17:53\n",
       "47     72  26.28  11:17:56\n",
       "48     73  26.28  11:17:56\n",
       "49     70  30.93  11:17:56\n",
       "50     76  41.21  11:18:00\n",
       "51     75  39.23  11:18:01\n",
       "52     80  50.08  11:18:02\n",
       "53     79  38.99  11:18:03\n",
       "54     85  43.92  11:18:06\n",
       "55     84  40.38  11:18:07\n",
       "56     83  29.61  11:18:08\n",
       "57     89  62.66  11:18:09"
      ]
     },
     "execution_count": 4,
     "metadata": {},
     "output_type": "execute_result"
    }
   ],
   "source": [
    "data = data.drop('image', axis=1)\n",
    "data"
   ]
  },
  {
   "cell_type": "code",
   "execution_count": 5,
   "id": "84b2539a",
   "metadata": {},
   "outputs": [
    {
     "data": {
      "text/plain": [
       "<AxesSubplot:>"
      ]
     },
     "execution_count": 5,
     "metadata": {},
     "output_type": "execute_result"
    },
    {
     "data": {
      "image/png": "[encoded data removed]",
      "text/plain": [
       "<Figure size 432x288 with 1 Axes>"
      ]
     },
     "metadata": {
      "needs_background": "light"
     },
     "output_type": "display_data"
    }
   ],
   "source": [
    "data['speed'].plot()"
   ]
  },
  {
   "cell_type": "code",
   "execution_count": 6,
   "id": "dca52a69",
   "metadata": {},
   "outputs": [
    {
     "name": "stdout",
     "output_type": "stream",
     "text": [
      "Iteration:      1,   Func. Count:      7,   Neg. LLF: 1582.877245259747\n",
      "Iteration:      2,   Func. Count:     15,   Neg. LLF: 233.19064809326602\n",
      "Iteration:      3,   Func. Count:     22,   Neg. LLF: 228.56642447665834\n",
      "Iteration:      4,   Func. Count:     28,   Neg. LLF: 228.4967646497148\n",
      "Iteration:      5,   Func. Count:     34,   Neg. LLF: 228.48218360893006\n",
      "Iteration:      6,   Func. Count:     40,   Neg. LLF: 228.4358466407651\n",
      "Iteration:      7,   Func. Count:     46,   Neg. LLF: 228.41450997423073\n",
      "Iteration:      8,   Func. Count:     52,   Neg. LLF: 228.4129135450473\n",
      "Iteration:      9,   Func. Count:     58,   Neg. LLF: 228.41199494840657\n",
      "Iteration:     10,   Func. Count:     64,   Neg. LLF: 228.40934013060158\n",
      "Iteration:     11,   Func. Count:     70,   Neg. LLF: 228.40591028767878\n",
      "Iteration:     12,   Func. Count:     76,   Neg. LLF: 228.4006728122187\n",
      "Iteration:     13,   Func. Count:     82,   Neg. LLF: 228.39680169417562\n",
      "Iteration:     14,   Func. Count:     88,   Neg. LLF: 228.39513275114555\n",
      "Iteration:     15,   Func. Count:     94,   Neg. LLF: 228.39496287201027\n",
      "Iteration:     16,   Func. Count:    100,   Neg. LLF: 228.3949572494751\n",
      "Iteration:     17,   Func. Count:    105,   Neg. LLF: 228.39495725395756\n",
      "Optimization terminated successfully    (Exit mode 0)\n",
      "            Current function value: 228.3949572494751\n",
      "            Iterations: 17\n",
      "            Function evaluations: 105\n",
      "            Gradient evaluations: 17\n"
     ]
    },
    {
     "data": {
      "text/html": [
       "<table class=\"simpletable\">\n",
       "<caption>Constant Mean - GJR-GARCH Model Results</caption>\n",
       "<tr>\n",
       "  <th>Dep. Variable:</th>        <td>speed</td>       <th>  R-squared:         </th>  <td>   0.000</td> \n",
       "</tr>\n",
       "<tr>\n",
       "  <th>Mean Model:</th>       <td>Constant Mean</td>   <th>  Adj. R-squared:    </th>  <td>   0.000</td> \n",
       "</tr>\n",
       "<tr>\n",
       "  <th>Vol Model:</th>          <td>GJR-GARCH</td>     <th>  Log-Likelihood:    </th> <td>  -228.395</td>\n",
       "</tr>\n",
       "<tr>\n",
       "  <th>Distribution:</th>        <td>Normal</td>       <th>  AIC:               </th> <td>   466.790</td>\n",
       "</tr>\n",
       "<tr>\n",
       "  <th>Method:</th>        <td>Maximum Likelihood</td> <th>  BIC:               </th> <td>   477.092</td>\n",
       "</tr>\n",
       "<tr>\n",
       "  <th></th>                        <td></td>          <th>  No. Observations:  </th>     <td>58</td>    \n",
       "</tr>\n",
       "<tr>\n",
       "  <th>Date:</th>           <td>Mon, Apr 10 2023</td>  <th>  Df Residuals:      </th>     <td>57</td>    \n",
       "</tr>\n",
       "<tr>\n",
       "  <th>Time:</th>               <td>22:06:56</td>      <th>  Df Model:          </th>      <td>1</td>    \n",
       "</tr>\n",
       "</table>\n",
       "<table class=\"simpletable\">\n",
       "<caption>Mean Model</caption>\n",
       "<tr>\n",
       "   <td></td>     <th>coef</th>     <th>std err</th>      <th>t</th>       <th>P>|t|</th>   <th>95.0% Conf. Int.</th> \n",
       "</tr>\n",
       "<tr>\n",
       "  <th>mu</th> <td>   35.3914</td> <td>    2.324</td> <td>   15.227</td> <td>2.342e-52</td> <td>[ 30.836, 39.947]</td>\n",
       "</tr>\n",
       "</table>\n",
       "<table class=\"simpletable\">\n",
       "<caption>Volatility Model</caption>\n",
       "<tr>\n",
       "      <td></td>        <th>coef</th>     <th>std err</th>      <th>t</th>       <th>P>|t|</th>     <th>95.0% Conf. Int.</th>  \n",
       "</tr>\n",
       "<tr>\n",
       "  <th>omega</th>    <td>    5.4742</td> <td>    6.062</td> <td>    0.903</td> <td>    0.367</td>   <td>[ -6.407, 17.356]</td> \n",
       "</tr>\n",
       "<tr>\n",
       "  <th>gamma[1]</th> <td>    0.0849</td> <td>7.627e-02</td> <td>    1.113</td> <td>    0.266</td> <td>[-6.464e-02,  0.234]</td>\n",
       "</tr>\n",
       "<tr>\n",
       "  <th>beta[1]</th>  <td>    0.9063</td> <td>    0.348</td> <td>    2.605</td> <td>9.191e-03</td>   <td>[  0.224,  1.588]</td> \n",
       "</tr>\n",
       "<tr>\n",
       "  <th>beta[2]</th>    <td>0.0000</td>   <td>    0.326</td>   <td>0.000</td>   <td>    1.000</td>   <td>[ -0.638,  0.638]</td> \n",
       "</tr>\n",
       "</table><br/><br/>Covariance estimator: robust"
      ],
      "text/plain": [
       "<class 'statsmodels.iolib.summary.Summary'>\n",
       "\"\"\"\n",
       "                   Constant Mean - GJR-GARCH Model Results                    \n",
       "==============================================================================\n",
       "Dep. Variable:                  speed   R-squared:                       0.000\n",
       "Mean Model:             Constant Mean   Adj. R-squared:                  0.000\n",
       "Vol Model:                  GJR-GARCH   Log-Likelihood:               -228.395\n",
       "Distribution:                  Normal   AIC:                           466.790\n",
       "Method:            Maximum Likelihood   BIC:                           477.092\n",
       "                                        No. Observations:                   58\n",
       "Date:                Mon, Apr 10 2023   Df Residuals:                       57\n",
       "Time:                        22:06:56   Df Model:                            1\n",
       "                               Mean Model                               \n",
       "========================================================================\n",
       "                 coef    std err          t      P>|t|  95.0% Conf. Int.\n",
       "------------------------------------------------------------------------\n",
       "mu            35.3914      2.324     15.227  2.342e-52 [ 30.836, 39.947]\n",
       "                              Volatility Model                             \n",
       "===========================================================================\n",
       "                 coef    std err          t      P>|t|     95.0% Conf. Int.\n",
       "---------------------------------------------------------------------------\n",
       "omega          5.4742      6.062      0.903      0.367    [ -6.407, 17.356]\n",
       "gamma[1]       0.0849  7.627e-02      1.113      0.266 [-6.464e-02,  0.234]\n",
       "beta[1]        0.9063      0.348      2.605  9.191e-03    [  0.224,  1.588]\n",
       "beta[2]        0.0000      0.326      0.000      1.000    [ -0.638,  0.638]\n",
       "===========================================================================\n",
       "\n",
       "Covariance estimator: robust\n",
       "\"\"\""
      ]
     },
     "execution_count": 6,
     "metadata": {},
     "output_type": "execute_result"
    }
   ],
   "source": [
    "from arch import arch_model\n",
    "model = arch_model(data['speed'], vol='GARCH', p=0, o=1, q=2, dist='normal')\n",
    "model = model.fit()\n",
    "model.summary()"
   ]
  },
  {
   "cell_type": "code",
   "execution_count": 7,
   "id": "baf56600",
   "metadata": {},
   "outputs": [
    {
     "data": {
      "image/png": "[encoded data removed]",
      "text/plain": [
       "<Figure size 432x288 with 2 Axes>"
      ]
     },
     "execution_count": 7,
     "metadata": {},
     "output_type": "execute_result"
    },
    {
     "data": {
      "image/png": "[encoded data removed]",
      "text/plain": [
       "<Figure size 432x288 with 2 Axes>"
      ]
     },
     "metadata": {
      "needs_background": "light"
     },
     "output_type": "display_data"
    }
   ],
   "source": [
    "model.plot()"
   ]
  },
  {
   "cell_type": "code",
   "execution_count": 8,
   "id": "96144f8d",
   "metadata": {},
   "outputs": [
    {
     "name": "stdout",
     "output_type": "stream",
     "text": [
      "MAE: 24.523\n",
      "MSE: 769.274\n",
      "RMSE: 27.736\n",
      "MAPE: 63.857%\n"
     ]
    }
   ],
   "source": [
    "from sklearn.metrics import mean_absolute_error, mean_squared_error\n",
    "\n",
    "y_true = data['speed']\n",
    "y_pred = model.conditional_volatility\n",
    "mae = mean_absolute_error(y_true, y_pred)\n",
    "print('MAE: %.3f' % mae)\n",
    "\n",
    "# Compute the mean squared error (MSE)\n",
    "mse = mean_squared_error(y_true, y_pred)\n",
    "print('MSE: %.3f' % mse)\n",
    "\n",
    "# Compute the root mean squared error (RMSE)\n",
    "rmse = np.sqrt(mse)\n",
    "print('RMSE: %.3f' % rmse)\n",
    "\n",
    "# Compute the mean absolute percentage error (MAPE)\n",
    "mape = np.mean(np.abs((y_true - y_pred) / y_true)) * 100\n",
    "print('MAPE: %.3f%%' % mape)"
   ]
  },
  {
   "cell_type": "markdown",
   "id": "69a40f02",
   "metadata": {},
   "source": [
    "ARIMA MODEL FOR TIME SERIES FORECASTING "
   ]
  },
  {
   "cell_type": "code",
   "execution_count": 9,
   "id": "79d0ba2d",
   "metadata": {},
   "outputs": [
    {
     "data": {
      "image/png": "[encoded data removed]",
      "text/plain": [
       "<Figure size 432x288 with 1 Axes>"
      ]
     },
     "metadata": {
      "needs_background": "light"
     },
     "output_type": "display_data"
    }
   ],
   "source": [
    "from statsmodels.tsa.arima.model import ARIMA\n",
    "time_series = pd.Series(data['speed'].values, index=pd.to_datetime(data['Time']))\n",
    "plt.plot(time_series)\n",
    "plt.title('Speed vs. Time')\n",
    "plt.xlabel('Time')\n",
    "plt.ylabel('Speed')\n",
    "plt.show()\n"
   ]
  },
  {
   "cell_type": "code",
   "execution_count": 10,
   "id": "62ad9c34",
   "metadata": {},
   "outputs": [
    {
     "name": "stderr",
     "output_type": "stream",
     "text": [
      "/Users/lakshan/opt/anaconda3/lib/python3.9/site-packages/statsmodels/tsa/base/tsa_model.py:471: ValueWarning: A date index has been provided, but it has no associated frequency information and so will be ignored when e.g. forecasting.\n",
      "  self._init_dates(dates, freq)\n",
      "/Users/lakshan/opt/anaconda3/lib/python3.9/site-packages/statsmodels/tsa/base/tsa_model.py:471: ValueWarning: A date index has been provided, but it has no associated frequency information and so will be ignored when e.g. forecasting.\n",
      "  self._init_dates(dates, freq)\n",
      "/Users/lakshan/opt/anaconda3/lib/python3.9/site-packages/statsmodels/tsa/base/tsa_model.py:471: ValueWarning: A date index has been provided, but it has no associated frequency information and so will be ignored when e.g. forecasting.\n",
      "  self._init_dates(dates, freq)\n"
     ]
    },
    {
     "name": "stdout",
     "output_type": "stream",
     "text": [
      "                               SARIMAX Results                                \n",
      "==============================================================================\n",
      "Dep. Variable:                      y   No. Observations:                   58\n",
      "Model:                 ARIMA(1, 1, 1)   Log Likelihood                -216.184\n",
      "Date:                Mon, 10 Apr 2023   AIC                            438.367\n",
      "Time:                        22:07:01   BIC                            444.496\n",
      "Sample:                             0   HQIC                           440.749\n",
      "                                 - 58                                         \n",
      "Covariance Type:                  opg                                         \n",
      "==============================================================================\n",
      "                 coef    std err          z      P>|z|      [0.025      0.975]\n",
      "------------------------------------------------------------------------------\n",
      "ar.L1         -0.2595      0.173     -1.499      0.134      -0.599       0.080\n",
      "ma.L1         -0.5630      0.178     -3.166      0.002      -0.911      -0.214\n",
      "sigma2       113.8445     19.019      5.986      0.000      76.567     151.122\n",
      "===================================================================================\n",
      "Ljung-Box (L1) (Q):                   0.00   Jarque-Bera (JB):                 3.43\n",
      "Prob(Q):                              0.97   Prob(JB):                         0.18\n",
      "Heteroskedasticity (H):               0.35   Skew:                             0.33\n",
      "Prob(H) (two-sided):                  0.03   Kurtosis:                         4.01\n",
      "===================================================================================\n",
      "\n",
      "Warnings:\n",
      "[1] Covariance matrix calculated using the outer product of gradients (complex-step).\n"
     ]
    }
   ],
   "source": [
    "model = ARIMA(time_series, order=(1, 1, 1))\n",
    "model_fit = model.fit()\n",
    "print(model_fit.summary())\n"
   ]
  },
  {
   "cell_type": "code",
   "execution_count": 11,
   "id": "de50e971",
   "metadata": {},
   "outputs": [
    {
     "name": "stdout",
     "output_type": "stream",
     "text": [
      "0    40.930488\n",
      "1    46.568334\n",
      "2    45.105563\n",
      "3    45.485087\n",
      "4    45.386617\n",
      "5    45.412166\n",
      "6    45.405537\n",
      "7    45.407257\n",
      "8    45.406811\n",
      "9    45.406926\n",
      "Name: predicted_mean, dtype: float64\n"
     ]
    },
    {
     "name": "stderr",
     "output_type": "stream",
     "text": [
      "/Users/lakshan/opt/anaconda3/lib/python3.9/site-packages/statsmodels/tsa/base/tsa_model.py:834: ValueWarning: No supported index is available. Prediction results will be given with an integer index beginning at `start`.\n",
      "  return get_prediction_index(\n"
     ]
    }
   ],
   "source": [
    "forecast = model_fit.forecast(steps=10)\n",
    "forecast.index = data.index[0:len(forecast)]\n",
    "print(forecast)\n"
   ]
  },
  {
   "cell_type": "code",
   "execution_count": 12,
   "id": "18520a90",
   "metadata": {},
   "outputs": [
    {
     "data": {
      "image/png": "[encoded data removed]",
      "text/plain": [
       "<Figure size 432x288 with 1 Axes>"
      ]
     },
     "metadata": {
      "needs_background": "light"
     },
     "output_type": "display_data"
    }
   ],
   "source": [
    "forecast.plot()\n",
    "plt.setp(plt.gca().lines, linewidth=4)\n",
    "plt.ylabel('Speed')\n",
    "plt.show()\n"
   ]
  },
  {
   "cell_type": "markdown",
   "id": "61668b86",
   "metadata": {},
   "source": [
    "### DIFFERENT MODELS TO PREDICT THE TRAFFIC FLOW RATE"
   ]
  },
  {
   "cell_type": "code",
   "execution_count": 13,
   "id": "8953ca73",
   "metadata": {},
   "outputs": [],
   "source": [
    "from sklearn.linear_model import LinearRegression\n",
    "from sklearn.ensemble import GradientBoostingRegressor\n",
    "from sklearn.ensemble import RandomForestRegressor\n",
    "import seaborn as sns\n",
    "\n",
    "\n",
    "dt = pd.read_csv('overspeeding.csv')\n",
    "dt['Time'] = pd.to_datetime(dt['Time'])\n",
    "dt['time_diff'] = dt.groupby('carID')['Time'].diff().dt.total_seconds()\n"
   ]
  },
  {
   "cell_type": "code",
   "execution_count": 14,
   "id": "a04c3152",
   "metadata": {},
   "outputs": [],
   "source": [
    "dt['distance'] = dt['time_diff'] * dt['speed']\n",
    "flow_rate = dt.groupby(pd.Grouper(key='Time', freq='T'))['carID'].count()\n"
   ]
  },
  {
   "cell_type": "code",
   "execution_count": 15,
   "id": "97b99f61",
   "metadata": {},
   "outputs": [],
   "source": [
    "X = flow_rate[:-1].values.reshape(-1, 1)\n",
    "y = flow_rate[1:].values\n"
   ]
  },
  {
   "cell_type": "code",
   "execution_count": 16,
   "id": "d9e26ac0",
   "metadata": {},
   "outputs": [
    {
     "data": {
      "text/plain": [
       "LinearRegression()"
      ]
     },
     "execution_count": 16,
     "metadata": {},
     "output_type": "execute_result"
    }
   ],
   "source": [
    "model1 = LinearRegression()\n",
    "model1.fit(X, y)"
   ]
  },
  {
   "cell_type": "code",
   "execution_count": 17,
   "id": "5e085049",
   "metadata": {},
   "outputs": [
    {
     "data": {
      "text/plain": [
       "1.0"
      ]
     },
     "execution_count": 17,
     "metadata": {},
     "output_type": "execute_result"
    }
   ],
   "source": [
    "model1.score(X, y)"
   ]
  },
  {
   "cell_type": "code",
   "execution_count": 18,
   "id": "56597416",
   "metadata": {},
   "outputs": [
    {
     "name": "stdout",
     "output_type": "stream",
     "text": [
      "Predicted traffic flow rate for the next minute: 43.64 cars per minute\n"
     ]
    }
   ],
   "source": [
    "next_flow_rate1 = model1.predict([[flow_rate[-1]]])[0]\n",
    "print('Predicted traffic flow rate for the next minute: %.2f cars per minute' % next_flow_rate1)\n"
   ]
  },
  {
   "cell_type": "code",
   "execution_count": 19,
   "id": "2a6aebe1",
   "metadata": {},
   "outputs": [],
   "source": [
    "model2 = GradientBoostingRegressor()\n",
    "model2.fit(X, y)\n",
    "next_flow_rate2 = model2.predict([[flow_rate[-1]]])[0]"
   ]
  },
  {
   "cell_type": "code",
   "execution_count": 20,
   "id": "bfaa3f92",
   "metadata": {},
   "outputs": [
    {
     "data": {
      "text/plain": [
       "0.9999999992944921"
      ]
     },
     "execution_count": 20,
     "metadata": {},
     "output_type": "execute_result"
    }
   ],
   "source": [
    "model2.score(X, y)"
   ]
  },
  {
   "cell_type": "code",
   "execution_count": 21,
   "id": "76e8811d",
   "metadata": {},
   "outputs": [
    {
     "name": "stdout",
     "output_type": "stream",
     "text": [
      "Predicted traffic flow rate for the next minute: 36.00 cars per minute\n"
     ]
    }
   ],
   "source": [
    "print('Predicted traffic flow rate for the next minute: %.2f cars per minute' % next_flow_rate2)\n"
   ]
  },
  {
   "cell_type": "code",
   "execution_count": 22,
   "id": "c1ce5297",
   "metadata": {},
   "outputs": [
    {
     "name": "stdout",
     "output_type": "stream",
     "text": [
      "Predicted traffic flow rate for the next minute: 29.84 cars per minute\n"
     ]
    }
   ],
   "source": [
    "model3 = RandomForestRegressor(n_estimators=100, max_depth=5, random_state=42)\n",
    "model3.fit(X, y)\n",
    "next_flow_rate3 = model3.predict([[flow_rate[-1]]])[0]\n",
    "print('Predicted traffic flow rate for the next minute: %.2f cars per minute' % next_flow_rate3)\n"
   ]
  },
  {
   "cell_type": "code",
   "execution_count": 23,
   "id": "3cffd452",
   "metadata": {},
   "outputs": [
    {
     "data": {
      "text/plain": [
       "0.768"
      ]
     },
     "execution_count": 23,
     "metadata": {},
     "output_type": "execute_result"
    }
   ],
   "source": [
    "model3.score(X, y)"
   ]
  },
  {
   "cell_type": "code",
   "execution_count": 24,
   "id": "7efd33cf",
   "metadata": {},
   "outputs": [
    {
     "data": {
      "image/png": "[encoded data removed]",
      "text/plain": [
       "<Figure size 432x288 with 1 Axes>"
      ]
     },
     "metadata": {},
     "output_type": "display_data"
    }
   ],
   "source": [
    "models = ['Linear Reg', 'Gradient Reg', 'Random Forest Reg']\n",
    "predicted_flow_rates = [next_flow_rate1, next_flow_rate2, next_flow_rate3]\n",
    "sns.set(style='whitegrid', font_scale=1.2)\n",
    "sns.set_palette('pastel')\n",
    "ax = sns.barplot(x=models, y=predicted_flow_rates)\n",
    "ax.set(xlabel='Machine Learning Models', ylabel='Predicted Traffic Flow Rates (cars per minute)',\n",
    "       title='Comparison of Traffic Flow Rate Prediction Models')\n",
    "\n",
    "# Add labels to the bars\n",
    "for i, v in enumerate(predicted_flow_rates):\n",
    "    ax.text(i, v+1, '%.2f' % v, ha='center')\n",
    "\n",
    "plt.show()"
   ]
  },
  {
   "cell_type": "code",
   "execution_count": null,
   "id": "d535be7d",
   "metadata": {},
   "outputs": [],
   "source": []
  }
 ],
 "metadata": {
  "kernelspec": {
   "display_name": "Python 3 (ipykernel)",
   "language": "python",
   "name": "python3"
  },
  "language_info": {
   "codemirror_mode": {
    "name": "ipython",
    "version": 3
   },
   "file_extension": ".py",
   "mimetype": "text/x-python",
   "name": "python",
   "nbconvert_exporter": "python",
   "pygments_lexer": "ipython3",
   "version": "3.9.12"
  }
 },
 "nbformat": 4,
 "nbformat_minor": 5
}
